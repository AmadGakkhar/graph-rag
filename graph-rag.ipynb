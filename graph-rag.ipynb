{
 "cells": [
  {
   "cell_type": "code",
   "execution_count": 2,
   "metadata": {},
   "outputs": [
    {
     "data": {
      "text/plain": [
       "True"
      ]
     },
     "execution_count": 2,
     "metadata": {},
     "output_type": "execute_result"
    }
   ],
   "source": [
    "import os\n",
    "from langchain_experimental.graph_transformers import LLMGraphTransformer\n",
    "from langchain.chains import GraphQAChain\n",
    "from langchain_core.documents import Document\n",
    "from langchain_community.graphs.networkx_graph import NetworkxEntityGraph\n",
    "import json\n",
    "\n",
    "from langchain_core.prompts import ChatPromptTemplate\n",
    "from langchain_groq import ChatGroq\n",
    "from dotenv import load_dotenv\n",
    "\n",
    "load_dotenv()\n"
   ]
  },
  {
   "cell_type": "code",
   "execution_count": 3,
   "metadata": {},
   "outputs": [],
   "source": [
    "llm = ChatGroq(temperature=0, model_name = \"llama-3.1-8b-instant\", groq_api_key = os.environ[\"GROQ_API_KEY\"])"
   ]
  },
  {
   "cell_type": "code",
   "execution_count": 4,
   "metadata": {},
   "outputs": [],
   "source": [
    "text = \"\"\"New Yorker Josh Kerben used to keep a careful eye on his petrol purchases, trying to stretch out his money by only partially filling the tank.\n",
    "\n",
    "These days, however, he has been filling it to the top.\n",
    "\n",
    "The decision is an indication of the increased financial breathing room being felt by millions of Americans, as petrol prices drop to their lowest level for three years, helping to contain rising living costs.\n",
    "\n",
    "US inflation - the rate at which prices increase - rose slightly to 2.7% last month, official figures showed. Despite the increase, prices are rising far more slowly than in June 2022, when Russia's invasion of Ukraine sparked turmoil in global oil markets and sent fuel prices soaring.\n",
    "\n",
    "Though the progress has appeared in economic data for months, economic dissatisfaction has remained high, as price increases in other areas, such as housing, overshadowed the wider improvement.\n",
    "\n",
    "The issue played a key role in the US election, helping Donald Trump win re-election to the White House last month.\n",
    "\n",
    "Now, however, surveys suggest opinions about the economy are finally starting to brighten, driven in large part by increased confidence among supporters of Trump, Mr Kerben among them, after the former president's election victory.\n",
    "\n",
    "\"Compared to two months ago, I would say I feel more confident,\" the 36-year-old property manager said. \"Hopefully Trump will do something.\"\n",
    "\n",
    "Ironically, the improvement in sentiment is arriving just as progress containing prices has appeared to stall.\n",
    "\n",
    "The 2.7% inflation rate for November had been expected.\n",
    "\n",
    "But it was up from 2.6% in October, marking the highest rate since July.\n",
    "\n",
    "Gas prices - though down 8.1% compared with 2023 - rose 0.6% from October, while grocery prices jumped 0.5% over the month.\n",
    "\n",
    "Prices of used cars, household furnishings and medical care also climbed.\n",
    "\n",
    "The situation has raised questions about how Trump will deliver on his promises to lower prices for Americans - and what the US central bank, which wants to see an inflation rate of about 2%, should do next.\n",
    "\n",
    "\"Inflation has been coming steadily back into focus in the US,\" said Lindsay James, investment strategist at Quilter Investors.\n",
    "\n",
    "\"This is due in part to the lack of progress that has been made over the last three months, but also because of concerns that higher US government spending plus the introduction of Trump's tariffs could create a more inflationary backdrop.\"\n",
    "\n",
    "The US central bank lowered interest rates for the first time in more than four years in September, citing the progress stabilising prices.\n",
    "\n",
    "Many analysts still expect officials to announce another cut to interest rates at their meeting this month, but they have warned that rates are likely to stay higher than previously expected next year unless price increases in areas outside of petrol start to ease more significantly.\n",
    "\n",
    "That's a conclusion that will come as no surprise to Americans like Grier Bowen.\n",
    "\n",
    "The 48-year-old was diagnosed with cancer in 2017 and now relies on disability payments from the government, which she said have not kept up as expenses shot up in recent years.\n",
    "\n",
    "Though the situation has been helped by lower petrol prices, she said the savings were not enough to offset higher costs elsewhere.\n",
    "\n",
    "\"You may save here but you've got to now reallocate somewhere else,\" she said.\n",
    "\n",
    "Ms Bowen said she thought Trump would try to shake things up but she has yet to be convinced he will make a difference for the better.\n",
    "\n",
    "\"That's yet to be determined,\" she said.\"\"\""
   ]
  },
  {
   "cell_type": "code",
   "execution_count": 6,
   "metadata": {},
   "outputs": [],
   "source": [
    "documents = [Document(page_content=text)]\n",
    "\n",
    "llm_transformer_filtered = LLMGraphTransformer(llm=llm)\n",
    "graph_documents_filtered  = llm_transformer_filtered.convert_to_graph_documents(documents)"
   ]
  },
  {
   "cell_type": "code",
   "execution_count": 22,
   "metadata": {},
   "outputs": [
    {
     "name": "stdout",
     "output_type": "stream",
     "text": [
      "[Node(id='Josh Kerben', type='Person', properties={}), Node(id='Donald Trump', type='Person', properties={}), Node(id='Lindsay James', type='Person', properties={}), Node(id='Grier Bowen', type='Person', properties={}), Node(id='Us', type='Country', properties={}), Node(id='Russia', type='Country', properties={}), Node(id='Ukraine', type='Country', properties={}), Node(id='New Yorker', type='Person', properties={}), Node(id='Property Manager', type='Job', properties={}), Node(id='Investment Strategist', type='Job', properties={}), Node(id='Petrol', type='Resource', properties={}), Node(id='Gas Prices', type='Price', properties={}), Node(id='Grocery Prices', type='Price', properties={}), Node(id='Used Cars', type='Product', properties={}), Node(id='Household Furnishings', type='Product', properties={}), Node(id='Medical Care', type='Service', properties={}), Node(id='Us Central Bank', type='Institution', properties={}), Node(id='Quilter Investors', type='Institution', properties={})]\n"
     ]
    }
   ],
   "source": [
    "print (graph_documents_filtered[0].nodes)"
   ]
  },
  {
   "cell_type": "code",
   "execution_count": 8,
   "metadata": {},
   "outputs": [],
   "source": [
    "graph = NetworkxEntityGraph()\n",
    "\n",
    "for node in graph_documents_filtered[0].nodes:\n",
    "    graph.add_node(node.id)\n",
    "    \n",
    "for edge in graph_documents_filtered[0].relationships:\n",
    "    graph._graph.add_edge(edge.source.id, edge.target.id, relation = edge.type)\n",
    "    \n",
    "graph_rag = GraphQAChain.from_llm(\n",
    "    llm=llm,\n",
    "    graph=graph,\n",
    "    verbose=True,\n",
    ")"
   ]
  },
  {
   "cell_type": "code",
   "execution_count": 23,
   "metadata": {},
   "outputs": [
    {
     "name": "stdout",
     "output_type": "stream",
     "text": [
      "['Josh Kerben', 'Donald Trump', 'Lindsay James', 'Grier Bowen', 'Us', 'Russia', 'Ukraine', 'New Yorker', 'Property Manager', 'Investment Strategist', 'Petrol', 'Gas Prices', 'Grocery Prices', 'Used Cars', 'Household Furnishings', 'Medical Care', 'Us Central Bank', 'Quilter Investors', 'Disability Payments', 'Interest Rates', 'Petrol Prices']\n"
     ]
    }
   ],
   "source": [
    "print(graph._graph.nodes)"
   ]
  },
  {
   "cell_type": "code",
   "execution_count": 14,
   "metadata": {},
   "outputs": [
    {
     "data": {
      "text/html": [
       "<div>\n",
       "<style scoped>\n",
       "    .dataframe tbody tr th:only-of-type {\n",
       "        vertical-align: middle;\n",
       "    }\n",
       "\n",
       "    .dataframe tbody tr th {\n",
       "        vertical-align: top;\n",
       "    }\n",
       "\n",
       "    .dataframe thead th {\n",
       "        text-align: right;\n",
       "    }\n",
       "</style>\n",
       "<table border=\"1\" class=\"dataframe\">\n",
       "  <thead>\n",
       "    <tr style=\"text-align: right;\">\n",
       "      <th></th>\n",
       "      <th>node1</th>\n",
       "      <th>node2</th>\n",
       "      <th>relation</th>\n",
       "    </tr>\n",
       "  </thead>\n",
       "  <tbody>\n",
       "    <tr>\n",
       "      <th>0</th>\n",
       "      <td>Josh Kerben</td>\n",
       "      <td>Petrol</td>\n",
       "      <td>USES</td>\n",
       "    </tr>\n",
       "    <tr>\n",
       "      <th>1</th>\n",
       "      <td>Josh Kerben</td>\n",
       "      <td>Donald Trump</td>\n",
       "      <td>SUPPORTS</td>\n",
       "    </tr>\n",
       "    <tr>\n",
       "      <th>2</th>\n",
       "      <td>Donald Trump</td>\n",
       "      <td>Us</td>\n",
       "      <td>LEADER</td>\n",
       "    </tr>\n",
       "    <tr>\n",
       "      <th>3</th>\n",
       "      <td>Donald Trump</td>\n",
       "      <td>Us Central Bank</td>\n",
       "      <td>INFLUENCES</td>\n",
       "    </tr>\n",
       "    <tr>\n",
       "      <th>4</th>\n",
       "      <td>Lindsay James</td>\n",
       "      <td>Us Central Bank</td>\n",
       "      <td>WORKS_FOR</td>\n",
       "    </tr>\n",
       "    <tr>\n",
       "      <th>5</th>\n",
       "      <td>Lindsay James</td>\n",
       "      <td>Quilter Investors</td>\n",
       "      <td>WORKS_FOR</td>\n",
       "    </tr>\n",
       "    <tr>\n",
       "      <th>6</th>\n",
       "      <td>Grier Bowen</td>\n",
       "      <td>Us</td>\n",
       "      <td>CITIZEN</td>\n",
       "    </tr>\n",
       "    <tr>\n",
       "      <th>7</th>\n",
       "      <td>Grier Bowen</td>\n",
       "      <td>Medical Care</td>\n",
       "      <td>USES</td>\n",
       "    </tr>\n",
       "    <tr>\n",
       "      <th>8</th>\n",
       "      <td>Grier Bowen</td>\n",
       "      <td>Disability Payments</td>\n",
       "      <td>RECEIVES</td>\n",
       "    </tr>\n",
       "    <tr>\n",
       "      <th>9</th>\n",
       "      <td>Us</td>\n",
       "      <td>Russia</td>\n",
       "      <td>HAS_CONFLICT_WITH</td>\n",
       "    </tr>\n",
       "    <tr>\n",
       "      <th>10</th>\n",
       "      <td>Us</td>\n",
       "      <td>Ukraine</td>\n",
       "      <td>HAS_CONFLICT_WITH</td>\n",
       "    </tr>\n",
       "    <tr>\n",
       "      <th>11</th>\n",
       "      <td>Us</td>\n",
       "      <td>Petrol</td>\n",
       "      <td>IMPORTS</td>\n",
       "    </tr>\n",
       "    <tr>\n",
       "      <th>12</th>\n",
       "      <td>Us Central Bank</td>\n",
       "      <td>Us</td>\n",
       "      <td>REGULATES</td>\n",
       "    </tr>\n",
       "    <tr>\n",
       "      <th>13</th>\n",
       "      <td>Us Central Bank</td>\n",
       "      <td>Interest Rates</td>\n",
       "      <td>SETS</td>\n",
       "    </tr>\n",
       "    <tr>\n",
       "      <th>14</th>\n",
       "      <td>Us Central Bank</td>\n",
       "      <td>Petrol Prices</td>\n",
       "      <td>INFLUENCES</td>\n",
       "    </tr>\n",
       "    <tr>\n",
       "      <th>15</th>\n",
       "      <td>Quilter Investors</td>\n",
       "      <td>Us</td>\n",
       "      <td>INVESTS_IN</td>\n",
       "    </tr>\n",
       "    <tr>\n",
       "      <th>16</th>\n",
       "      <td>Quilter Investors</td>\n",
       "      <td>Petrol</td>\n",
       "      <td>INVESTS_IN</td>\n",
       "    </tr>\n",
       "  </tbody>\n",
       "</table>\n",
       "</div>"
      ],
      "text/plain": [
       "                node1                node2           relation\n",
       "0         Josh Kerben               Petrol               USES\n",
       "1         Josh Kerben         Donald Trump           SUPPORTS\n",
       "2        Donald Trump                   Us             LEADER\n",
       "3        Donald Trump      Us Central Bank         INFLUENCES\n",
       "4       Lindsay James      Us Central Bank          WORKS_FOR\n",
       "5       Lindsay James    Quilter Investors          WORKS_FOR\n",
       "6         Grier Bowen                   Us            CITIZEN\n",
       "7         Grier Bowen         Medical Care               USES\n",
       "8         Grier Bowen  Disability Payments           RECEIVES\n",
       "9                  Us               Russia  HAS_CONFLICT_WITH\n",
       "10                 Us              Ukraine  HAS_CONFLICT_WITH\n",
       "11                 Us               Petrol            IMPORTS\n",
       "12    Us Central Bank                   Us          REGULATES\n",
       "13    Us Central Bank       Interest Rates               SETS\n",
       "14    Us Central Bank        Petrol Prices         INFLUENCES\n",
       "15  Quilter Investors                   Us         INVESTS_IN\n",
       "16  Quilter Investors               Petrol         INVESTS_IN"
      ]
     },
     "execution_count": 14,
     "metadata": {},
     "output_type": "execute_result"
    }
   ],
   "source": [
    "import pandas as pd\n",
    "df = pd.DataFrame(columns=['node1', 'node2', 'relation'])\n",
    "\n",
    "for edge in graph_documents_filtered[0].relationships:\n",
    "    df = pd.concat([df, pd.DataFrame({'node1': [edge.source.id], 'node2': [edge.target.id], 'relation': [edge.type]})], ignore_index=True)\n",
    "df"
   ]
  },
  {
   "cell_type": "code",
   "execution_count": 24,
   "metadata": {},
   "outputs": [
    {
     "name": "stdout",
     "output_type": "stream",
     "text": [
      "\n",
      "\n",
      "\u001b[1m> Entering new GraphQAChain chain...\u001b[0m\n",
      "Entities Extracted:\n",
      "\u001b[32;1m\u001b[1;3mDonald Trump\u001b[0m\n",
      "Full Context:\n",
      "\u001b[32;1m\u001b[1;3mDonald Trump LEADER Us\n",
      "Donald Trump INFLUENCES Us Central Bank\u001b[0m\n",
      "\n",
      "\u001b[1m> Finished chain.\u001b[0m\n"
     ]
    },
    {
     "data": {
      "text/plain": [
       "\"I don't have enough information to determine how Donald Trump will influence inflation. The given knowledge triplets only state that Donald Trump is a leader of the United States and influences the US Central Bank, but they do not provide any information about his policies or actions regarding inflation.\""
      ]
     },
     "execution_count": 24,
     "metadata": {},
     "output_type": "execute_result"
    }
   ],
   "source": [
    "question = \"\"\"how donald trum will influence inflation\"\"\"\n",
    "graph_rag.run(question)"
   ]
  },
  {
   "cell_type": "code",
   "execution_count": null,
   "metadata": {},
   "outputs": [],
   "source": []
  }
 ],
 "metadata": {
  "kernelspec": {
   "display_name": "graph_rag",
   "language": "python",
   "name": "python3"
  },
  "language_info": {
   "codemirror_mode": {
    "name": "ipython",
    "version": 3
   },
   "file_extension": ".py",
   "mimetype": "text/x-python",
   "name": "python",
   "nbconvert_exporter": "python",
   "pygments_lexer": "ipython3",
   "version": "3.13.1"
  }
 },
 "nbformat": 4,
 "nbformat_minor": 2
}
